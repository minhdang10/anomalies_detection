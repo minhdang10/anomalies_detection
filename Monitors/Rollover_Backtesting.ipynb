{
 "cells": [
  {
   "cell_type": "code",
   "execution_count": 1,
   "metadata": {
    "ExecuteTime": {
     "end_time": "2021-10-09T01:36:33.610795Z",
     "start_time": "2021-10-09T01:36:33.604495Z"
    }
   },
   "outputs": [],
   "source": [
    "#Job Parameters\n",
    "job_id=14\n",
    "job_name= 'PackageCount_Volume_at_Facility'\n",
    "\n",
    "# #Snowflake Input Credentials\n",
    "user_id='FUSION_FDR_ETL_USER'\n",
    "passcode='FsW@1fDrR'\n",
    "WAREHOUSE='FUSION_CS_DWH'\n",
    "snowflake_account='pitneybowes.us-east-1'\n",
    "\n",
    "#Snowflake Output Parameters\n",
    "snowflake_output_database = 'FUSION_FDR_DB'\n",
    "snowflake_output_schema = 'FUSION_ANOMOLY_DEV_SCHEMA'\n",
    "snowflake_output_table = 'ANOMALY_BACKTESTING_TIMESERIES'"
   ]
  },
  {
   "cell_type": "code",
   "execution_count": 2,
   "metadata": {},
   "outputs": [
    {
     "name": "stderr",
     "output_type": "stream",
     "text": [
      "Importing plotly failed. Interactive plots will not work.\n"
     ]
    }
   ],
   "source": [
    "#import packages\n",
    "import numpy as np\n",
    "import pandas as pd\n",
    "from datetime import datetime, timedelta\n",
    "import snowflake.connector\n",
    "import itertools\n",
    "from prophet import Prophet\n",
    "import matplotlib.pyplot as plt\n",
    "import time\n",
    "from tqdm import *\n",
    "import warnings"
   ]
  },
  {
   "cell_type": "code",
   "execution_count": 3,
   "metadata": {},
   "outputs": [],
   "source": [
    "#Training Parameters \n",
    "#total days\n",
    "test_last_days = 90\n",
    "\n",
    "# length of training period (days)\n",
    "training_period=test_last_days-60\n",
    "\n",
    "# training interval increment (days)\n",
    "interval=1\n",
    "\n",
    "# window between checkpoint (hours)\n",
    "window='24H'\n",
    "\n",
    "#number of forecast (based on windows between checkpoint)\n",
    "number_of_forecast = 24/int(window[0])\n",
    "\n",
    "#group-by variable for printing during training\n",
    "category_1='Facility'\n",
    "category_2='Event'\n",
    "\n",
    "#list of confidence interval\n",
    "confidence_interval=[0.80,0.90,0.95,0.99]   \n",
    "\n",
    "# Format output file\n",
    "monitor_name = 'PackageCount_Volume_at_Facility'\n",
    "lob = 'Tracking'\n",
    "version = 1.0"
   ]
  },
  {
   "cell_type": "code",
   "execution_count": 4,
   "metadata": {},
   "outputs": [],
   "source": [
    "#start and end date filter for data query\n",
    "et=datetime.today().date() - timedelta(days = 1)\n",
    "st=et-timedelta(days=test_last_days)\n",
    "\n",
    "#query from Snowflake\n",
    "query = '''\n",
    "            SELECT CAST(EVENTRPTDATETIME as DATE) AS Event_Time,year(CAST(EVENTRPTDATETIME as DATE)) year,\n",
    "                    FWDTRACKINGID AS Tracking_ID, \n",
    "                    EVENTFACILITYNAME as Facility, \n",
    "                    TRACKINGEVENTKEY as Event\n",
    "            FROM \"FDR_DWH_DB_PROD\".\"DELIVERY\".\"FWDTRACKINGEVENT\"\n",
    "            WHERE eventrptdatetime <= '''+\"'\"+str(et)+\" 00:00:00'\"+'''\n",
    "            AND eventrptdatetime >= '''+\"'\"+str(st)+\" 00:00:00'\"+'''\n",
    "            AND EVENTFACILITYNAME IN ('IND3','EWR2','ATL4','ONT1','RNO2','DFW5') AND\n",
    "            TRACKINGEVENTKEY in (7,14,335) \n",
    "           and year='2021'\n",
    "            ;\n",
    "        '''\n",
    "#             and eventfacilityname in ('IND3','EWR2','ATL4','ONT1','RNO2','DFW4','CVG1','ORD2','BWI1','MCO1') \n",
    "#             and trackingeventkey in (7,14,33,335,334,326) "
   ]
  },
  {
   "cell_type": "code",
   "execution_count": 5,
   "metadata": {},
   "outputs": [],
   "source": [
    "#import from functions.py\n",
    "from functions import createConnection,extractData,exploratory_data_analysis,preprocessing"
   ]
  },
  {
   "cell_type": "code",
   "execution_count": 6,
   "metadata": {
    "ExecuteTime": {
     "end_time": "2021-10-09T01:57:38.481097Z",
     "start_time": "2021-10-09T01:57:36.484428Z"
    }
   },
   "outputs": [
    {
     "name": "stdout",
     "output_type": "stream",
     "text": [
      "Attempting to establish a Secure Connection...\n",
      "Connected Successfully.\n",
      "Data Extraction Started\n",
      "Data Extraction Completed\n"
     ]
    }
   ],
   "source": [
    "#connect to Snowflake and query data\n",
    "createConnection(user_id,passcode)\n",
    "df=extractData(st,et,query)"
   ]
  },
  {
   "cell_type": "code",
   "execution_count": 7,
   "metadata": {},
   "outputs": [
    {
     "data": {
      "text/html": [
       "<div>\n",
       "<style scoped>\n",
       "    .dataframe tbody tr th:only-of-type {\n",
       "        vertical-align: middle;\n",
       "    }\n",
       "\n",
       "    .dataframe tbody tr th {\n",
       "        vertical-align: top;\n",
       "    }\n",
       "\n",
       "    .dataframe thead th {\n",
       "        text-align: right;\n",
       "    }\n",
       "</style>\n",
       "<table border=\"1\" class=\"dataframe\">\n",
       "  <thead>\n",
       "    <tr style=\"text-align: right;\">\n",
       "      <th></th>\n",
       "      <th>EVENT_TIME</th>\n",
       "      <th>YEAR</th>\n",
       "      <th>TRACKING_ID</th>\n",
       "      <th>FACILITY</th>\n",
       "      <th>EVENT</th>\n",
       "    </tr>\n",
       "  </thead>\n",
       "  <tbody>\n",
       "    <tr>\n",
       "      <th>0</th>\n",
       "      <td>2021-09-18</td>\n",
       "      <td>2021</td>\n",
       "      <td>599866340</td>\n",
       "      <td>RNO2</td>\n",
       "      <td>335</td>\n",
       "    </tr>\n",
       "    <tr>\n",
       "      <th>1</th>\n",
       "      <td>2021-09-16</td>\n",
       "      <td>2021</td>\n",
       "      <td>599626959</td>\n",
       "      <td>EWR2</td>\n",
       "      <td>14</td>\n",
       "    </tr>\n",
       "    <tr>\n",
       "      <th>2</th>\n",
       "      <td>2021-09-18</td>\n",
       "      <td>2021</td>\n",
       "      <td>601308188</td>\n",
       "      <td>IND3</td>\n",
       "      <td>335</td>\n",
       "    </tr>\n",
       "    <tr>\n",
       "      <th>3</th>\n",
       "      <td>2021-09-18</td>\n",
       "      <td>2021</td>\n",
       "      <td>601259821</td>\n",
       "      <td>IND3</td>\n",
       "      <td>335</td>\n",
       "    </tr>\n",
       "    <tr>\n",
       "      <th>4</th>\n",
       "      <td>2021-09-18</td>\n",
       "      <td>2021</td>\n",
       "      <td>599707702</td>\n",
       "      <td>IND3</td>\n",
       "      <td>335</td>\n",
       "    </tr>\n",
       "    <tr>\n",
       "      <th>...</th>\n",
       "      <td>...</td>\n",
       "      <td>...</td>\n",
       "      <td>...</td>\n",
       "      <td>...</td>\n",
       "      <td>...</td>\n",
       "    </tr>\n",
       "    <tr>\n",
       "      <th>461008</th>\n",
       "      <td>2021-12-07</td>\n",
       "      <td>2021</td>\n",
       "      <td>668750605</td>\n",
       "      <td>ONT1</td>\n",
       "      <td>335</td>\n",
       "    </tr>\n",
       "    <tr>\n",
       "      <th>461009</th>\n",
       "      <td>2021-12-07</td>\n",
       "      <td>2021</td>\n",
       "      <td>663837682</td>\n",
       "      <td>ONT1</td>\n",
       "      <td>14</td>\n",
       "    </tr>\n",
       "    <tr>\n",
       "      <th>461010</th>\n",
       "      <td>2021-12-07</td>\n",
       "      <td>2021</td>\n",
       "      <td>662546392</td>\n",
       "      <td>EWR2</td>\n",
       "      <td>335</td>\n",
       "    </tr>\n",
       "    <tr>\n",
       "      <th>461011</th>\n",
       "      <td>2021-12-07</td>\n",
       "      <td>2021</td>\n",
       "      <td>674117330</td>\n",
       "      <td>EWR2</td>\n",
       "      <td>7</td>\n",
       "    </tr>\n",
       "    <tr>\n",
       "      <th>461012</th>\n",
       "      <td>2021-12-07</td>\n",
       "      <td>2021</td>\n",
       "      <td>673602407</td>\n",
       "      <td>IND3</td>\n",
       "      <td>335</td>\n",
       "    </tr>\n",
       "  </tbody>\n",
       "</table>\n",
       "<p>90446462 rows × 5 columns</p>\n",
       "</div>"
      ],
      "text/plain": [
       "        EVENT_TIME  YEAR  TRACKING_ID FACILITY  EVENT\n",
       "0       2021-09-18  2021    599866340     RNO2    335\n",
       "1       2021-09-16  2021    599626959     EWR2     14\n",
       "2       2021-09-18  2021    601308188     IND3    335\n",
       "3       2021-09-18  2021    601259821     IND3    335\n",
       "4       2021-09-18  2021    599707702     IND3    335\n",
       "...            ...   ...          ...      ...    ...\n",
       "461008  2021-12-07  2021    668750605     ONT1    335\n",
       "461009  2021-12-07  2021    663837682     ONT1     14\n",
       "461010  2021-12-07  2021    662546392     EWR2    335\n",
       "461011  2021-12-07  2021    674117330     EWR2      7\n",
       "461012  2021-12-07  2021    673602407     IND3    335\n",
       "\n",
       "[90446462 rows x 5 columns]"
      ]
     },
     "execution_count": 7,
     "metadata": {},
     "output_type": "execute_result"
    }
   ],
   "source": [
    "df"
   ]
  },
  {
   "cell_type": "code",
   "execution_count": 8,
   "metadata": {},
   "outputs": [
    {
     "data": {
      "text/plain": [
       "14     36408209\n",
       "335    32566515\n",
       "7      21471738\n",
       "Name: EVENT, dtype: int64"
      ]
     },
     "execution_count": 8,
     "metadata": {},
     "output_type": "execute_result"
    }
   ],
   "source": [
    "df['EVENT'].value_counts()"
   ]
  },
  {
   "cell_type": "code",
   "execution_count": 9,
   "metadata": {},
   "outputs": [],
   "source": [
    "#df['EVENT'] = df['EVENT'].astype(str)\n",
    "df['TRACKING_ID'] = df['TRACKING_ID'].astype(str)"
   ]
  },
  {
   "cell_type": "code",
   "execution_count": 10,
   "metadata": {},
   "outputs": [],
   "source": [
    "df['EVENT_TIME'] = pd.to_datetime(df['EVENT_TIME'], dayfirst=True)"
   ]
  },
  {
   "cell_type": "code",
   "execution_count": 11,
   "metadata": {},
   "outputs": [],
   "source": [
    "df2=df[df['EVENT'].isin([7,335])]\n"
   ]
  },
  {
   "cell_type": "code",
   "execution_count": 12,
   "metadata": {},
   "outputs": [],
   "source": [
    "df2['EVENT_TIME'] = pd.to_datetime(df2['EVENT_TIME'], format='%d.%m.%Y')\n",
    "#create a temporary DataFrame\n",
    "df3 = df2.groupby(['EVENT_TIME', 'TRACKING_ID','EVENT']).aggregate(n=('EVENT','count')).reset_index()\n",
    "#calc the lastweek\n",
    "# df2['LastWeek_Count'] = (df2.groupby(['Company', 'Country'])\n",
    "#                             .rolling(8, min_periods=1, on = 'Date')['Sold']\n",
    "#                             .sum().reset_index(drop=True)\n",
    "#                         ) "
   ]
  },
  {
   "cell_type": "code",
   "execution_count": null,
   "metadata": {},
   "outputs": [],
   "source": [
    "df1=df\n",
    "date = pd.DatetimeIndex(df1['EVENT_TIME'])\n",
    "\n",
    "# compute df2: totals by month\n",
    "df1['month'] = date.to_period('M')\n",
    "df2 = df1[df1['EVENT'].isin([7,335]) ].groupby(['TRACKING_ID', 'month']).sum()\n",
    "\n",
    "# compute df3: totals by last seven days\n",
    "from datetime import timedelta\n",
    "is_last_seven = date.to_period('M') != (date + timedelta(days=7)).to_period('M')\n",
    "df3 = df1[(df1['EVENT'] != 14) & is_last_seven].groupby(['TRACKING_ID', df1.month + 1]).sum()\n",
    "\n",
    "# join the results\n",
    "result = df2.join(df3, rsuffix='_last_seven')\n",
    "result=result.fillna(0)"
   ]
  },
  {
   "cell_type": "code",
   "execution_count": null,
   "metadata": {},
   "outputs": [],
   "source": [
    "delta = 7\n",
    "df5=df[['EVENT_TIME','FACILITY']]\n",
    "df5['count_in_last_%s_days' %(delta)] = df5.assign(count=1).groupby(\n",
    "    ['EVENT_TIME']).apply(lambda x: x.rolling('%sD' %delta, on='EVENT_TIME').sum(\n",
    "        ))['count'].astype(int) - 1"
   ]
  },
  {
   "cell_type": "code",
   "execution_count": null,
   "metadata": {},
   "outputs": [],
   "source": [
    "df4 = (df.groupby([\"TRACKING_ID\",\"EVENT\"])\n",
    "                            .rolling(8, min_periods=1, on = 'EVENT_TIME')\n",
    "                            .sum().reset_index(drop=True)\n",
    "                        ) \n",
    "df4"
   ]
  },
  {
   "cell_type": "code",
   "execution_count": null,
   "metadata": {},
   "outputs": [],
   "source": [
    "delta = 7\n",
    "df4=df[['EVENT_TIME','FACILITY']]\n",
    "df4['count_in_last_%s_days' %(delta)] = df4.groupby(\n",
    "    ['EVENT_TIME','FACILITY']).apply(lambda x: x.rolling('%sD' %delta, on='EVENT_TIME').count()).astype(int) "
   ]
  },
  {
   "cell_type": "code",
   "execution_count": null,
   "metadata": {},
   "outputs": [],
   "source": [
    "df.groupby(['TRACKING_ID','FACILITY']).sum()"
   ]
  },
  {
   "cell_type": "code",
   "execution_count": null,
   "metadata": {},
   "outputs": [],
   "source": [
    "df4 = (df3.groupby([\"TRACKING_ID\",\"EVENT\"])\n",
    "                            .rolling(8, min_periods=1, on = 'EVENT_TIME')\n",
    "                            .sum().reset_index(drop=True)\n",
    "                        ) "
   ]
  },
  {
   "cell_type": "code",
   "execution_count": null,
   "metadata": {},
   "outputs": [],
   "source": [
    "df4"
   ]
  },
  {
   "cell_type": "code",
   "execution_count": null,
   "metadata": {},
   "outputs": [],
   "source": [
    "df.info()"
   ]
  },
  {
   "cell_type": "code",
   "execution_count": null,
   "metadata": {},
   "outputs": [],
   "source": [
    "print(df.groupby(['FACILITY']).count().sort_values('EVENT', ascending=False))\n",
    "print(\"---------------------------------\")\n",
    "print(df.groupby(['EVENT']).count().sort_values('FACILITY', ascending=False))\n",
    "print(\"---------------------------------\")\n",
    "# print(df.groupby(['FACILITY','EVENT']).count().sort_values('ACTUAL', ascending=False))\n",
    "print(\"---------------------------------\")\n",
    "df=df[(df['FACILITY'].isin(['IND3', 'EWR2', 'ATL4', 'ONT1', 'RNO2', 'DFW5', 'CVG1', 'ORD2']))]\n",
    "#     print(\"---------------------------------\")\n",
    "#     df=df[(df['CATEGORY_1'].isin(['7', '33', '334', '335']))]\n",
    "#   print(\"---------------------------------\")\n",
    "# print(df.groupby(['CATEGORY_1','CATEGORY_2']).count().sort_values('ACTUAL', ascending=False))\n",
    "# print(\"---------------------------------\")"
   ]
  },
  {
   "cell_type": "code",
   "execution_count": null,
   "metadata": {},
   "outputs": [],
   "source": [
    "df1 = df[df['EVENT'].isin(['7','326']) & ~df['EVENT'].isin(['14'])]"
   ]
  },
  {
   "cell_type": "code",
   "execution_count": null,
   "metadata": {},
   "outputs": [],
   "source": [
    "df1"
   ]
  },
  {
   "cell_type": "code",
   "execution_count": null,
   "metadata": {},
   "outputs": [],
   "source": [
    "df2 = df1.groupby(['EVENT_TIME','FACILITY'],as_index=False)['TRACKING_ID'].nunique()"
   ]
  },
  {
   "cell_type": "code",
   "execution_count": null,
   "metadata": {},
   "outputs": [],
   "source": [
    "print(df2)"
   ]
  },
  {
   "cell_type": "code",
   "execution_count": null,
   "metadata": {},
   "outputs": [],
   "source": [
    "df"
   ]
  },
  {
   "cell_type": "code",
   "execution_count": null,
   "metadata": {},
   "outputs": [],
   "source": [
    "def move_group(group):\n",
    "    if not any(group['EVENT']==14):\n",
    "        return group\n",
    "\n",
    "df_ = df.groupby('TRACKING_ID').apply(move_group).dropna()\n",
    "df_"
   ]
  },
  {
   "cell_type": "code",
   "execution_count": null,
   "metadata": {},
   "outputs": [],
   "source": [
    "df4=df\n",
    "df4"
   ]
  },
  {
   "cell_type": "code",
   "execution_count": null,
   "metadata": {},
   "outputs": [],
   "source": [
    "####Start here\n",
    "df5=df4.head(1000000)\n",
    "df5['EVENT_TIME']=pd.to_datetime(df5['EVENT_TIME'])"
   ]
  },
  {
   "cell_type": "code",
   "execution_count": null,
   "metadata": {},
   "outputs": [],
   "source": [
    "df5=df5[df4['EVENT'].isin([7,335,14])]\n",
    "df6=df5.set_index('EVENT_TIME').\\\n",
    "groupby(['TRACKING_ID','FACILITY',pd.Grouper(freq='7D')]).\\\n",
    "filter(lambda grp: (grp['EVENT'] != 14).all())\n",
    "\n",
    "\n",
    "\n",
    "\n"
   ]
  },
  {
   "cell_type": "code",
   "execution_count": null,
   "metadata": {},
   "outputs": [],
   "source": [
    "df6"
   ]
  },
  {
   "cell_type": "code",
   "execution_count": null,
   "metadata": {},
   "outputs": [],
   "source": [
    "df6.groupby(['EVENT_TIME','FACILITY']).aggregate(count=('EVENT','count')).head(60)"
   ]
  },
  {
   "cell_type": "code",
   "execution_count": null,
   "metadata": {},
   "outputs": [],
   "source": [
    "#df5=df5[df4['EVENT'].isin([7,335,14])]\n",
    "df7=df5.set_index('EVENT_TIME').\\\n",
    "groupby(['TRACKING_ID','FACILITY',pd.Grouper(freq='1D')]).\\\n",
    "filter(lambda grp: (grp['EVENT'] != 14).all())\n",
    "\n"
   ]
  },
  {
   "cell_type": "code",
   "execution_count": null,
   "metadata": {},
   "outputs": [],
   "source": [
    "df7.groupby(['EVENT_TIME','FACILITY']).aggregate(count=('EVENT','count')).head(60)"
   ]
  },
  {
   "cell_type": "code",
   "execution_count": null,
   "metadata": {},
   "outputs": [],
   "source": [
    "#####End here"
   ]
  },
  {
   "cell_type": "code",
   "execution_count": null,
   "metadata": {},
   "outputs": [],
   "source": [
    "df6.groupby(['EVENT_TIME','FACILITY']).aggregate(count=('EVENT','count')).head(20)"
   ]
  },
  {
   "cell_type": "code",
   "execution_count": null,
   "metadata": {},
   "outputs": [],
   "source": [
    "df3 = df2.set_index('EVENT_TIME').groupby('FACILITY',as_index=False).rolling('3D').sum()\n",
    "# df3 = df2.groupby('FACILITY',as_index=False).rolling('3D').sum()"
   ]
  },
  {
   "cell_type": "code",
   "execution_count": null,
   "metadata": {},
   "outputs": [],
   "source": [
    "df3"
   ]
  },
  {
   "cell_type": "code",
   "execution_count": null,
   "metadata": {},
   "outputs": [],
   "source": [
    "#EDA\n",
    "exploratory_data_analysis(df)"
   ]
  },
  {
   "cell_type": "code",
   "execution_count": null,
   "metadata": {},
   "outputs": [],
   "source": [
    "#preprocessing data to train\n",
    "df=preprocessing(df,window)\n",
    "\n",
    "#get list of category_1 and 2\n",
    "category_1_list=list(df['CATEGORY_1'].unique())\n",
    "category_2_list=list(df['CATEGORY_2'].unique())"
   ]
  },
  {
   "cell_type": "code",
   "execution_count": null,
   "metadata": {},
   "outputs": [],
   "source": [
    "df"
   ]
  },
  {
   "cell_type": "code",
   "execution_count": null,
   "metadata": {},
   "outputs": [],
   "source": [
    "#modeling\n",
    "final_output=modeling_backtesting(category_1,category_2,confidence_interval,category_1_list,category_2_list,df,window,training_period,interval,number_of_forecast)"
   ]
  },
  {
   "cell_type": "code",
   "execution_count": null,
   "metadata": {},
   "outputs": [],
   "source": [
    "final_output"
   ]
  },
  {
   "cell_type": "code",
   "execution_count": null,
   "metadata": {},
   "outputs": [],
   "source": [
    "cleaned_output=output_cleaning(final_output,df)\n",
    "print(cleaned_output)"
   ]
  },
  {
   "cell_type": "code",
   "execution_count": null,
   "metadata": {},
   "outputs": [],
   "source": [
    "#format CSV file\n",
    "results=formatted_csv(cleaned_output,monitor_name,lob,version)\n",
    "results"
   ]
  },
  {
   "cell_type": "code",
   "execution_count": null,
   "metadata": {},
   "outputs": [],
   "source": [
    "#results structure\n",
    "results.info()"
   ]
  },
  {
   "cell_type": "code",
   "execution_count": null,
   "metadata": {
    "ExecuteTime": {
     "start_time": "2021-10-09T01:58:45.055Z"
    }
   },
   "outputs": [],
   "source": [
    "# from snowflake.connector.pandas_tools import pd_writer\n",
    "# import os\n",
    "\n",
    "# def write_to_snowflake(data):\n",
    "    \n",
    "#     job_run_time=datetime.today()\n",
    "#     print(\"Writing to Snowflake\")\n",
    "    \n",
    "#     #Append Job Parameters in OutputDataFrame\n",
    "#     data.insert(0,'JOB_ID',job_id)\n",
    "# #     data.insert(1,'RUN_DATE',datetime.now().strftime('%Y-%m-%d %H:%M:%S'))\n",
    "# #     data.insert(2,'ANOMALY_NAME',job_name)\n",
    "\n",
    "#     ctx = snowflake.connector.connect(\n",
    "#     user= user_id,\n",
    "#     password= passcode,\n",
    "#     account= snowflake_account\n",
    "#     )\n",
    "#     #create a cursor object.\n",
    "#     cs = ctx.cursor()\n",
    "\n",
    "#     #Use Snowflake_Output_Schema\n",
    "#     cs.execute(\"USE WAREHOUSE \" + WAREHOUSE)\n",
    "#     cs.execute(\"USE DATABASE \" + snowflake_output_database)\n",
    "#     cs.execute(\"USE SCHEMA \" + snowflake_output_schema)\n",
    "    \n",
    "#     #Create File Format\n",
    "#     Format_name = \"ANOMOLY_FILE_FORMAT\"\n",
    "#     fileFormatQuery = 'CREATE OR REPLACE FILE FORMAT ' +Format_name+ ' TYPE = \\'CSV\\' NULL_IF = (\\'\\') EMPTY_FIELD_AS_NULL = TRUE field_delimiter = \\'|\\''\n",
    "#     cs.execute(fileFormatQuery)\n",
    "#     inputFileName = str(job_id)+'_'+str(job_name)+'_'+datetime.now().strftime('%Y%m%d_%H%M%S')+'.csv'\n",
    "    \n",
    "#     #Create Local Job Output Directory\n",
    "#     os.system(\"mkdir -p job_output\")\n",
    "    \n",
    "#     # save file to local\n",
    "#     data.to_csv('job_output/'+inputFileName,index=False,header=False,sep='|')\n",
    "    \n",
    "#     # upload to stage\n",
    "#     uploadToStageQuery = 'put file://job_output/'+inputFileName+' @%ANOMALY_BACKTESTING_TIMESERIES;'\n",
    "#     cs.execute(uploadToStageQuery)\n",
    "    \n",
    "#     # copy to table\n",
    "#     copyIntoQuery  = 'COPY INTO \"'+snowflake_output_table+'\" FROM @\"%ANOMALY_BACKTESTING_TIMESERIES\" FILE_FORMAT = \"'+Format_name+'\"'\n",
    "#     cs.execute(copyIntoQuery)\n",
    "\n",
    "#     # Remove Staged Files from Staged\n",
    "#     removeStagedQuery = 'rm @%ANOMALY_BACKTESTING_TIMESERIES/'+str(inputFileName) + '.gz'\n",
    "    \n",
    "#     cs.execute(removeStagedQuery)\n",
    "    \n",
    "#     cs.close()\n",
    "      \n",
    "#     pass "
   ]
  },
  {
   "cell_type": "code",
   "execution_count": null,
   "metadata": {
    "ExecuteTime": {
     "start_time": "2021-10-09T01:58:45.238Z"
    }
   },
   "outputs": [],
   "source": [
    "# write_to_snowflake(results) "
   ]
  },
  {
   "cell_type": "code",
   "execution_count": null,
   "metadata": {},
   "outputs": [],
   "source": [
    "rate=alert_rate(confidence_interval,category_1_list,category_2_list,results,number_of_forecast)\n",
    "rate"
   ]
  },
  {
   "cell_type": "code",
   "execution_count": null,
   "metadata": {},
   "outputs": [],
   "source": []
  }
 ],
 "metadata": {
  "celltoolbar": "Tags",
  "kernelspec": {
   "display_name": "Python 3",
   "language": "python",
   "name": "python3"
  },
  "language_info": {
   "codemirror_mode": {
    "name": "ipython",
    "version": 3
   },
   "file_extension": ".py",
   "mimetype": "text/x-python",
   "name": "python",
   "nbconvert_exporter": "python",
   "pygments_lexer": "ipython3",
   "version": "3.8.8"
  }
 },
 "nbformat": 4,
 "nbformat_minor": 2
}
