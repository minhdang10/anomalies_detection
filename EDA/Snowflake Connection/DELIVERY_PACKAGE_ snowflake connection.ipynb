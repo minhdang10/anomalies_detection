{
 "cells": [
  {
   "cell_type": "markdown",
   "metadata": {},
   "source": [
    "## Connecting to Snowflake to access data from \"FDR_DB\".\"FDR_SOURCE\".\"DELIVERY_PACKAGE\", one-time only"
   ]
  },
  {
   "cell_type": "code",
   "execution_count": 1,
   "metadata": {
    "ExecuteTime": {
     "end_time": "2021-07-07T12:32:32.039598Z",
     "start_time": "2021-07-07T12:32:29.582681Z"
    }
   },
   "outputs": [],
   "source": [
    "# connect to snowflake\n",
    "\n",
    "%reload_ext snowflakes\n",
    "%snowflakes FUSION_FDR_ETL_USER FsW@1fDrR pitneybowes.us-east-1"
   ]
  },
  {
   "cell_type": "markdown",
   "metadata": {},
   "source": [
    "#### Queries to access package dimmension data from 3/1/2021 - 3/28/2021 based on induction scan and delivery date data (restricted to less than full month due to large quantity of data)"
   ]
  },
  {
   "cell_type": "code",
   "execution_count": null,
   "metadata": {
    "ExecuteTime": {
     "start_time": "2021-07-07T12:32:39.285Z"
    }
   },
   "outputs": [],
   "source": [
    "%%snowflakes df\n",
    "\n",
    "SELECT\n",
    "    FWD_PACKAGE_KEY, MERCHANT_ORG_KEY, ORG_NAME, INDUCTION_SCAN_DATE_KEY, DELIVERY_DATE_KEY,\n",
    "    LENGTH, WIDTH, HEIGHT, DIMENSIONAL_WEIGHT, \n",
    "    AUT_DIM_PCF, AUT_DIM_LENGTH, AUT_DIM_WIDTH, AUT_DIM_HEIGHT, BILL_WEIGHT, ACTUAL_WEIGHT\n",
    "FROM \n",
    "    \"FDR_DB\".\"FDR_SOURCE\".\"DELIVERY_PACKAGE\" \n",
    "WHERE \n",
    "    INDUCTION_SCAN_DATE_KEY >= '20210301' AND DELIVERY_DATE_KEY < '20210310';"
   ]
  },
  {
   "cell_type": "code",
   "execution_count": null,
   "metadata": {
    "ExecuteTime": {
     "end_time": "2021-06-28T14:52:16.370728Z",
     "start_time": "2021-06-28T14:51:37.118742Z"
    }
   },
   "outputs": [],
   "source": [
    "%%snowflakes df2\n",
    "\n",
    "SELECT\n",
    "    FWD_PACKAGE_KEY, MERCHANT_ORG_KEY, ORG_NAME, INDUCTION_SCAN_DATE_KEY, DELIVERY_DATE_KEY,\n",
    "    LENGTH, WIDTH, HEIGHT, DIMENSIONAL_WEIGHT, \n",
    "    AUT_DIM_PCF, AUT_DIM_LENGTH, AUT_DIM_WIDTH, AUT_DIM_HEIGHT, BILL_WEIGHT, ACTUAL_WEIGHT\n",
    "FROM \n",
    "    \"FDR_DB\".\"FDR_SOURCE\".\"DELIVERY_PACKAGE\" \n",
    "WHERE \n",
    "    DELIVERY_DATE_KEY >= '20210310' AND DELIVERY_DATE_KEY < '20210315';"
   ]
  },
  {
   "cell_type": "code",
   "execution_count": null,
   "metadata": {
    "ExecuteTime": {
     "end_time": "2021-06-28T14:58:34.480962Z",
     "start_time": "2021-06-28T14:57:58.708930Z"
    }
   },
   "outputs": [],
   "source": [
    "%%snowflakes df3\n",
    "\n",
    "SELECT\n",
    "    FWD_PACKAGE_KEY, MERCHANT_ORG_KEY, ORG_NAME, INDUCTION_SCAN_DATE_KEY, DELIVERY_DATE_KEY,\n",
    "    LENGTH, WIDTH, HEIGHT, DIMENSIONAL_WEIGHT, \n",
    "    AUT_DIM_PCF, AUT_DIM_LENGTH, AUT_DIM_WIDTH, AUT_DIM_HEIGHT, BILL_WEIGHT, ACTUAL_WEIGHT\n",
    "FROM \n",
    "    \"FDR_DB\".\"FDR_SOURCE\".\"DELIVERY_PACKAGE\" \n",
    "WHERE \n",
    "    DELIVERY_DATE_KEY >= '20210315' AND DELIVERY_DATE_KEY < '20210319';"
   ]
  },
  {
   "cell_type": "code",
   "execution_count": null,
   "metadata": {
    "ExecuteTime": {
     "end_time": "2021-06-28T15:01:02.842727Z",
     "start_time": "2021-06-28T15:00:22.662324Z"
    }
   },
   "outputs": [],
   "source": [
    "%%snowflakes df4\n",
    "\n",
    "SELECT\n",
    "    FWD_PACKAGE_KEY, MERCHANT_ORG_KEY, ORG_NAME, INDUCTION_SCAN_DATE_KEY, DELIVERY_DATE_KEY,\n",
    "    LENGTH, WIDTH, HEIGHT, DIMENSIONAL_WEIGHT, \n",
    "    AUT_DIM_PCF, AUT_DIM_LENGTH, AUT_DIM_WIDTH, AUT_DIM_HEIGHT, BILL_WEIGHT, ACTUAL_WEIGHT\n",
    "FROM \n",
    "    \"FDR_DB\".\"FDR_SOURCE\".\"DELIVERY_PACKAGE\" \n",
    "WHERE \n",
    "    DELIVERY_DATE_KEY >= '20210319' AND DELIVERY_DATE_KEY < '20210323';"
   ]
  },
  {
   "cell_type": "code",
   "execution_count": null,
   "metadata": {
    "ExecuteTime": {
     "end_time": "2021-06-28T15:58:25.393566Z",
     "start_time": "2021-06-28T15:57:54.716073Z"
    }
   },
   "outputs": [],
   "source": [
    "%%snowflakes df5\n",
    "\n",
    "SELECT\n",
    "    FWD_PACKAGE_KEY, MERCHANT_ORG_KEY, ORG_NAME, INDUCTION_SCAN_DATE_KEY, DELIVERY_DATE_KEY,\n",
    "    LENGTH, WIDTH, HEIGHT, DIMENSIONAL_WEIGHT, \n",
    "    AUT_DIM_PCF, AUT_DIM_LENGTH, AUT_DIM_WIDTH, AUT_DIM_HEIGHT, BILL_WEIGHT, ACTUAL_WEIGHT\n",
    "FROM \n",
    "    \"FDR_DB\".\"FDR_SOURCE\".\"DELIVERY_PACKAGE\" \n",
    "WHERE \n",
    "    DELIVERY_DATE_KEY >= '20210323' AND DELIVERY_DATE_KEY < '20210326';"
   ]
  },
  {
   "cell_type": "code",
   "execution_count": null,
   "metadata": {
    "ExecuteTime": {
     "end_time": "2021-06-28T15:59:08.753173Z",
     "start_time": "2021-06-28T15:58:41.456252Z"
    }
   },
   "outputs": [],
   "source": [
    "%%snowflakes df6\n",
    "\n",
    "SELECT\n",
    "    FWD_PACKAGE_KEY, MERCHANT_ORG_KEY, ORG_NAME, INDUCTION_SCAN_DATE_KEY, DELIVERY_DATE_KEY,\n",
    "    LENGTH, WIDTH, HEIGHT, DIMENSIONAL_WEIGHT, \n",
    "    AUT_DIM_PCF, AUT_DIM_LENGTH, AUT_DIM_WIDTH, AUT_DIM_HEIGHT, BILL_WEIGHT, ACTUAL_WEIGHT\n",
    "FROM \n",
    "    \"FDR_DB\".\"FDR_SOURCE\".\"DELIVERY_PACKAGE\" \n",
    "WHERE \n",
    "    DELIVERY_DATE_KEY >= '20210326' AND DELIVERY_DATE_KEY < '20210329';"
   ]
  },
  {
   "cell_type": "markdown",
   "metadata": {},
   "source": [
    "#### Build into a single df and export as CSV"
   ]
  },
  {
   "cell_type": "code",
   "execution_count": null,
   "metadata": {},
   "outputs": [],
   "source": [
    "df = df.append(df2)\n",
    "df = df.append(df3)\n",
    "df = df.append(df4)\n",
    "df = df.append(df5)\n",
    "df = df.append(df6)"
   ]
  },
  {
   "cell_type": "code",
   "execution_count": null,
   "metadata": {},
   "outputs": [],
   "source": [
    "df.head()"
   ]
  },
  {
   "cell_type": "code",
   "execution_count": null,
   "metadata": {},
   "outputs": [],
   "source": [
    "df.info()"
   ]
  },
  {
   "cell_type": "code",
   "execution_count": null,
   "metadata": {},
   "outputs": [],
   "source": [
    "df1.to_csv('march2021delivery.csv')"
   ]
  }
 ],
 "metadata": {
  "kernelspec": {
   "display_name": "Python 3",
   "language": "python",
   "name": "python3"
  },
  "language_info": {
   "codemirror_mode": {
    "name": "ipython",
    "version": 3
   },
   "file_extension": ".py",
   "mimetype": "text/x-python",
   "name": "python",
   "nbconvert_exporter": "python",
   "pygments_lexer": "ipython3",
   "version": "3.6.7"
  }
 },
 "nbformat": 4,
 "nbformat_minor": 2
}
